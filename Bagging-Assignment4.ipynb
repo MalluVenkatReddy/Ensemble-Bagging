{
 "cells": [
  {
   "cell_type": "code",
   "execution_count": null,
   "id": "e2485c50",
   "metadata": {},
   "outputs": [],
   "source": [
    "Build a random forest classifier to predict the risk of heart disease based on a dataset of patient \n",
    "information. The dataset contains 303 instances with 14 features, including age, sex, chest pain type, \n",
    "resting blood pressure, serum cholesterol, and maximum heart rate achieved."
   ]
  },
  {
   "cell_type": "code",
   "execution_count": null,
   "id": "a2de8504",
   "metadata": {},
   "outputs": [],
   "source": [
    "Dataset link: https://drive.google.com/file/d/1bGoIE4Z2kG5nyh-fGZAJ7LH0ki3UfmSJ/view?\n",
    "usp=share_link"
   ]
  },
  {
   "cell_type": "code",
   "execution_count": 1,
   "id": "2c29f544",
   "metadata": {},
   "outputs": [
    {
     "data": {
      "text/html": [
       "<div>\n",
       "<style scoped>\n",
       "    .dataframe tbody tr th:only-of-type {\n",
       "        vertical-align: middle;\n",
       "    }\n",
       "\n",
       "    .dataframe tbody tr th {\n",
       "        vertical-align: top;\n",
       "    }\n",
       "\n",
       "    .dataframe thead th {\n",
       "        text-align: right;\n",
       "    }\n",
       "</style>\n",
       "<table border=\"1\" class=\"dataframe\">\n",
       "  <thead>\n",
       "    <tr style=\"text-align: right;\">\n",
       "      <th></th>\n",
       "      <th>age</th>\n",
       "      <th>sex</th>\n",
       "      <th>cp</th>\n",
       "      <th>trestbps</th>\n",
       "      <th>chol</th>\n",
       "      <th>fbs</th>\n",
       "      <th>restecg</th>\n",
       "      <th>thalach</th>\n",
       "      <th>exang</th>\n",
       "      <th>oldpeak</th>\n",
       "      <th>slope</th>\n",
       "      <th>ca</th>\n",
       "      <th>thal</th>\n",
       "      <th>target</th>\n",
       "    </tr>\n",
       "  </thead>\n",
       "  <tbody>\n",
       "    <tr>\n",
       "      <th>0</th>\n",
       "      <td>63</td>\n",
       "      <td>1</td>\n",
       "      <td>3</td>\n",
       "      <td>145</td>\n",
       "      <td>233</td>\n",
       "      <td>1</td>\n",
       "      <td>0</td>\n",
       "      <td>150</td>\n",
       "      <td>0</td>\n",
       "      <td>2.3</td>\n",
       "      <td>0</td>\n",
       "      <td>0</td>\n",
       "      <td>1</td>\n",
       "      <td>1</td>\n",
       "    </tr>\n",
       "    <tr>\n",
       "      <th>1</th>\n",
       "      <td>37</td>\n",
       "      <td>1</td>\n",
       "      <td>2</td>\n",
       "      <td>130</td>\n",
       "      <td>250</td>\n",
       "      <td>0</td>\n",
       "      <td>1</td>\n",
       "      <td>187</td>\n",
       "      <td>0</td>\n",
       "      <td>3.5</td>\n",
       "      <td>0</td>\n",
       "      <td>0</td>\n",
       "      <td>2</td>\n",
       "      <td>1</td>\n",
       "    </tr>\n",
       "  </tbody>\n",
       "</table>\n",
       "</div>"
      ],
      "text/plain": [
       "   age  sex  cp  trestbps  chol  fbs  restecg  thalach  exang  oldpeak  slope  \\\n",
       "0   63    1   3       145   233    1        0      150      0      2.3      0   \n",
       "1   37    1   2       130   250    0        1      187      0      3.5      0   \n",
       "\n",
       "   ca  thal  target  \n",
       "0   0     1       1  \n",
       "1   0     2       1  "
      ]
     },
     "execution_count": 1,
     "metadata": {},
     "output_type": "execute_result"
    }
   ],
   "source": [
    "import numpy as np\n",
    "import pandas as pd\n",
    "df=pd.read_csv(\"dataset.csv\")\n",
    "df.head(2)"
   ]
  },
  {
   "cell_type": "code",
   "execution_count": null,
   "id": "b249f51e",
   "metadata": {},
   "outputs": [],
   "source": [
    "Q1. Preprocess the dataset by handling missing values, encoding categorical variables, and scaling the \n",
    "numerical features if necessary."
   ]
  },
  {
   "cell_type": "code",
   "execution_count": 2,
   "id": "212959e1",
   "metadata": {},
   "outputs": [
    {
     "data": {
      "text/html": [
       "<div>\n",
       "<style scoped>\n",
       "    .dataframe tbody tr th:only-of-type {\n",
       "        vertical-align: middle;\n",
       "    }\n",
       "\n",
       "    .dataframe tbody tr th {\n",
       "        vertical-align: top;\n",
       "    }\n",
       "\n",
       "    .dataframe thead th {\n",
       "        text-align: right;\n",
       "    }\n",
       "</style>\n",
       "<table border=\"1\" class=\"dataframe\">\n",
       "  <thead>\n",
       "    <tr style=\"text-align: right;\">\n",
       "      <th></th>\n",
       "      <th>age</th>\n",
       "      <th>sex</th>\n",
       "      <th>cp</th>\n",
       "      <th>trestbps</th>\n",
       "      <th>chol</th>\n",
       "      <th>fbs</th>\n",
       "      <th>restecg</th>\n",
       "      <th>thalach</th>\n",
       "      <th>exang</th>\n",
       "      <th>oldpeak</th>\n",
       "      <th>slope</th>\n",
       "      <th>ca</th>\n",
       "      <th>thal</th>\n",
       "      <th>target</th>\n",
       "    </tr>\n",
       "  </thead>\n",
       "  <tbody>\n",
       "    <tr>\n",
       "      <th>count</th>\n",
       "      <td>303.000000</td>\n",
       "      <td>303.000000</td>\n",
       "      <td>303.000000</td>\n",
       "      <td>303.000000</td>\n",
       "      <td>303.000000</td>\n",
       "      <td>303.000000</td>\n",
       "      <td>303.000000</td>\n",
       "      <td>303.000000</td>\n",
       "      <td>303.000000</td>\n",
       "      <td>303.000000</td>\n",
       "      <td>303.000000</td>\n",
       "      <td>303.000000</td>\n",
       "      <td>303.000000</td>\n",
       "      <td>303.000000</td>\n",
       "    </tr>\n",
       "    <tr>\n",
       "      <th>mean</th>\n",
       "      <td>54.366337</td>\n",
       "      <td>0.683168</td>\n",
       "      <td>0.966997</td>\n",
       "      <td>131.623762</td>\n",
       "      <td>246.264026</td>\n",
       "      <td>0.148515</td>\n",
       "      <td>0.528053</td>\n",
       "      <td>149.646865</td>\n",
       "      <td>0.326733</td>\n",
       "      <td>1.039604</td>\n",
       "      <td>1.399340</td>\n",
       "      <td>0.729373</td>\n",
       "      <td>2.313531</td>\n",
       "      <td>0.544554</td>\n",
       "    </tr>\n",
       "    <tr>\n",
       "      <th>std</th>\n",
       "      <td>9.082101</td>\n",
       "      <td>0.466011</td>\n",
       "      <td>1.032052</td>\n",
       "      <td>17.538143</td>\n",
       "      <td>51.830751</td>\n",
       "      <td>0.356198</td>\n",
       "      <td>0.525860</td>\n",
       "      <td>22.905161</td>\n",
       "      <td>0.469794</td>\n",
       "      <td>1.161075</td>\n",
       "      <td>0.616226</td>\n",
       "      <td>1.022606</td>\n",
       "      <td>0.612277</td>\n",
       "      <td>0.498835</td>\n",
       "    </tr>\n",
       "    <tr>\n",
       "      <th>min</th>\n",
       "      <td>29.000000</td>\n",
       "      <td>0.000000</td>\n",
       "      <td>0.000000</td>\n",
       "      <td>94.000000</td>\n",
       "      <td>126.000000</td>\n",
       "      <td>0.000000</td>\n",
       "      <td>0.000000</td>\n",
       "      <td>71.000000</td>\n",
       "      <td>0.000000</td>\n",
       "      <td>0.000000</td>\n",
       "      <td>0.000000</td>\n",
       "      <td>0.000000</td>\n",
       "      <td>0.000000</td>\n",
       "      <td>0.000000</td>\n",
       "    </tr>\n",
       "    <tr>\n",
       "      <th>25%</th>\n",
       "      <td>47.500000</td>\n",
       "      <td>0.000000</td>\n",
       "      <td>0.000000</td>\n",
       "      <td>120.000000</td>\n",
       "      <td>211.000000</td>\n",
       "      <td>0.000000</td>\n",
       "      <td>0.000000</td>\n",
       "      <td>133.500000</td>\n",
       "      <td>0.000000</td>\n",
       "      <td>0.000000</td>\n",
       "      <td>1.000000</td>\n",
       "      <td>0.000000</td>\n",
       "      <td>2.000000</td>\n",
       "      <td>0.000000</td>\n",
       "    </tr>\n",
       "    <tr>\n",
       "      <th>50%</th>\n",
       "      <td>55.000000</td>\n",
       "      <td>1.000000</td>\n",
       "      <td>1.000000</td>\n",
       "      <td>130.000000</td>\n",
       "      <td>240.000000</td>\n",
       "      <td>0.000000</td>\n",
       "      <td>1.000000</td>\n",
       "      <td>153.000000</td>\n",
       "      <td>0.000000</td>\n",
       "      <td>0.800000</td>\n",
       "      <td>1.000000</td>\n",
       "      <td>0.000000</td>\n",
       "      <td>2.000000</td>\n",
       "      <td>1.000000</td>\n",
       "    </tr>\n",
       "    <tr>\n",
       "      <th>75%</th>\n",
       "      <td>61.000000</td>\n",
       "      <td>1.000000</td>\n",
       "      <td>2.000000</td>\n",
       "      <td>140.000000</td>\n",
       "      <td>274.500000</td>\n",
       "      <td>0.000000</td>\n",
       "      <td>1.000000</td>\n",
       "      <td>166.000000</td>\n",
       "      <td>1.000000</td>\n",
       "      <td>1.600000</td>\n",
       "      <td>2.000000</td>\n",
       "      <td>1.000000</td>\n",
       "      <td>3.000000</td>\n",
       "      <td>1.000000</td>\n",
       "    </tr>\n",
       "    <tr>\n",
       "      <th>max</th>\n",
       "      <td>77.000000</td>\n",
       "      <td>1.000000</td>\n",
       "      <td>3.000000</td>\n",
       "      <td>200.000000</td>\n",
       "      <td>564.000000</td>\n",
       "      <td>1.000000</td>\n",
       "      <td>2.000000</td>\n",
       "      <td>202.000000</td>\n",
       "      <td>1.000000</td>\n",
       "      <td>6.200000</td>\n",
       "      <td>2.000000</td>\n",
       "      <td>4.000000</td>\n",
       "      <td>3.000000</td>\n",
       "      <td>1.000000</td>\n",
       "    </tr>\n",
       "  </tbody>\n",
       "</table>\n",
       "</div>"
      ],
      "text/plain": [
       "              age         sex          cp    trestbps        chol         fbs  \\\n",
       "count  303.000000  303.000000  303.000000  303.000000  303.000000  303.000000   \n",
       "mean    54.366337    0.683168    0.966997  131.623762  246.264026    0.148515   \n",
       "std      9.082101    0.466011    1.032052   17.538143   51.830751    0.356198   \n",
       "min     29.000000    0.000000    0.000000   94.000000  126.000000    0.000000   \n",
       "25%     47.500000    0.000000    0.000000  120.000000  211.000000    0.000000   \n",
       "50%     55.000000    1.000000    1.000000  130.000000  240.000000    0.000000   \n",
       "75%     61.000000    1.000000    2.000000  140.000000  274.500000    0.000000   \n",
       "max     77.000000    1.000000    3.000000  200.000000  564.000000    1.000000   \n",
       "\n",
       "          restecg     thalach       exang     oldpeak       slope          ca  \\\n",
       "count  303.000000  303.000000  303.000000  303.000000  303.000000  303.000000   \n",
       "mean     0.528053  149.646865    0.326733    1.039604    1.399340    0.729373   \n",
       "std      0.525860   22.905161    0.469794    1.161075    0.616226    1.022606   \n",
       "min      0.000000   71.000000    0.000000    0.000000    0.000000    0.000000   \n",
       "25%      0.000000  133.500000    0.000000    0.000000    1.000000    0.000000   \n",
       "50%      1.000000  153.000000    0.000000    0.800000    1.000000    0.000000   \n",
       "75%      1.000000  166.000000    1.000000    1.600000    2.000000    1.000000   \n",
       "max      2.000000  202.000000    1.000000    6.200000    2.000000    4.000000   \n",
       "\n",
       "             thal      target  \n",
       "count  303.000000  303.000000  \n",
       "mean     2.313531    0.544554  \n",
       "std      0.612277    0.498835  \n",
       "min      0.000000    0.000000  \n",
       "25%      2.000000    0.000000  \n",
       "50%      2.000000    1.000000  \n",
       "75%      3.000000    1.000000  \n",
       "max      3.000000    1.000000  "
      ]
     },
     "execution_count": 2,
     "metadata": {},
     "output_type": "execute_result"
    }
   ],
   "source": [
    "df.describe()"
   ]
  },
  {
   "cell_type": "code",
   "execution_count": 3,
   "id": "ac7d3bcf",
   "metadata": {},
   "outputs": [
    {
     "data": {
      "text/plain": [
       "age         0\n",
       "sex         0\n",
       "cp          0\n",
       "trestbps    0\n",
       "chol        0\n",
       "fbs         0\n",
       "restecg     0\n",
       "thalach     0\n",
       "exang       0\n",
       "oldpeak     0\n",
       "slope       0\n",
       "ca          0\n",
       "thal        0\n",
       "target      0\n",
       "dtype: int64"
      ]
     },
     "execution_count": 3,
     "metadata": {},
     "output_type": "execute_result"
    }
   ],
   "source": [
    "df.isnull().sum()"
   ]
  },
  {
   "cell_type": "code",
   "execution_count": 4,
   "id": "400c08a8",
   "metadata": {},
   "outputs": [
    {
     "data": {
      "text/plain": [
       "age           int64\n",
       "sex           int64\n",
       "cp            int64\n",
       "trestbps      int64\n",
       "chol          int64\n",
       "fbs           int64\n",
       "restecg       int64\n",
       "thalach       int64\n",
       "exang         int64\n",
       "oldpeak     float64\n",
       "slope         int64\n",
       "ca            int64\n",
       "thal          int64\n",
       "target        int64\n",
       "dtype: object"
      ]
     },
     "execution_count": 4,
     "metadata": {},
     "output_type": "execute_result"
    }
   ],
   "source": [
    "df.dtypes"
   ]
  },
  {
   "cell_type": "code",
   "execution_count": 5,
   "id": "6a0510da",
   "metadata": {
    "scrolled": true
   },
   "outputs": [
    {
     "data": {
      "text/plain": [
       "age          41\n",
       "sex           2\n",
       "cp            4\n",
       "trestbps     49\n",
       "chol        152\n",
       "fbs           2\n",
       "restecg       3\n",
       "thalach      91\n",
       "exang         2\n",
       "oldpeak      40\n",
       "slope         3\n",
       "ca            5\n",
       "thal          4\n",
       "target        2\n",
       "dtype: int64"
      ]
     },
     "execution_count": 5,
     "metadata": {},
     "output_type": "execute_result"
    }
   ],
   "source": [
    "df.nunique()"
   ]
  },
  {
   "cell_type": "code",
   "execution_count": 6,
   "id": "e710d118",
   "metadata": {},
   "outputs": [],
   "source": [
    "X=df.drop(labels=['target'],axis=1)\n",
    "y=df['target']"
   ]
  },
  {
   "cell_type": "code",
   "execution_count": null,
   "id": "cf6952af",
   "metadata": {},
   "outputs": [],
   "source": [
    "Q2. Split the dataset into a training set (70%) and a test set (30%)."
   ]
  },
  {
   "cell_type": "code",
   "execution_count": 8,
   "id": "80f0c91c",
   "metadata": {},
   "outputs": [],
   "source": [
    "from sklearn.model_selection import train_test_split\n",
    "X_train,X_test,y_train,y_test=train_test_split(X,y,test_size=0.30,random_state=42)"
   ]
  },
  {
   "cell_type": "code",
   "execution_count": null,
   "id": "6c256516",
   "metadata": {},
   "outputs": [],
   "source": [
    "Q3. Train a random forest classifier on the training set using 100 trees and a maximum depth of 10 for each \n",
    "tree. Use the default values for other hyperparameters."
   ]
  },
  {
   "cell_type": "code",
   "execution_count": 13,
   "id": "ef56475b",
   "metadata": {},
   "outputs": [],
   "source": [
    "from sklearn.impute import SimpleImputer ## Handling Missing Values\n",
    "from sklearn.preprocessing import OneHotEncoder## handling Categorical features\n",
    "from sklearn.preprocessing import StandardScaler## Feature scaling\n",
    "from sklearn.pipeline import Pipeline\n",
    "from sklearn.compose import ColumnTransformer\n",
    "## Automating the entire"
   ]
  },
  {
   "cell_type": "code",
   "execution_count": 14,
   "id": "4e3ff1c4",
   "metadata": {},
   "outputs": [],
   "source": [
    "categorical_cols = []\n",
    "numerical_cols = ['age', 'sex', 'cp', 'trestbps', 'chol', 'fbs', 'restecg', 'thalach',\n",
    "       'exang', 'oldpeak', 'slope', 'ca', 'thal']"
   ]
  },
  {
   "cell_type": "code",
   "execution_count": 15,
   "id": "67d7da41",
   "metadata": {},
   "outputs": [],
   "source": [
    "num_pipeline=Pipeline(\n",
    "    steps=[\n",
    "        ('imputer',SimpleImputer(strategy='median')), ##missing values\n",
    "        ('scaler',StandardScaler())## feature scaling \n",
    "    ]\n",
    "\n",
    ")"
   ]
  },
  {
   "cell_type": "code",
   "execution_count": 16,
   "id": "27991e81",
   "metadata": {},
   "outputs": [],
   "source": [
    "preprocessor=ColumnTransformer([\n",
    "    ('num_pipeline',num_pipeline,numerical_cols),\n",
    "])"
   ]
  },
  {
   "cell_type": "code",
   "execution_count": 17,
   "id": "875cc0fd",
   "metadata": {},
   "outputs": [],
   "source": [
    "X_train=preprocessor.fit_transform(X_train)\n",
    "X_test=preprocessor.transform(X_test)"
   ]
  },
  {
   "cell_type": "code",
   "execution_count": 18,
   "id": "40cce7ea",
   "metadata": {},
   "outputs": [],
   "source": [
    "from sklearn.ensemble import RandomForestClassifier"
   ]
  },
  {
   "cell_type": "code",
   "execution_count": 19,
   "id": "eb18cfa8",
   "metadata": {},
   "outputs": [],
   "source": [
    "## Automate Model Training Process\n",
    "models={\n",
    "    'Random Forest':RandomForestClassifier(n_estimators=100,max_depth=10)\n",
    "\n",
    "}"
   ]
  },
  {
   "cell_type": "code",
   "execution_count": null,
   "id": "8ffd948a",
   "metadata": {},
   "outputs": [],
   "source": [
    "Q4. Evaluate the performance of the model on the test set using accuracy, precision, recall, and F1 score."
   ]
  },
  {
   "cell_type": "code",
   "execution_count": 22,
   "id": "3c0a69b8",
   "metadata": {},
   "outputs": [],
   "source": [
    "from sklearn.metrics import accuracy_score"
   ]
  },
  {
   "cell_type": "code",
   "execution_count": 23,
   "id": "da6b308b",
   "metadata": {},
   "outputs": [],
   "source": [
    "def evaluate_model(X_train,y_train,X_test,y_test,models):\n",
    "    \n",
    "    report = {}\n",
    "    for i in range(len(models)):\n",
    "        model = list(models.values())[i]\n",
    "        # Train model\n",
    "        model.fit(X_train,y_train)\n",
    "\n",
    "            \n",
    "\n",
    "        # Predict Testing data\n",
    "        y_test_pred =model.predict(X_test)\n",
    "\n",
    "        # Get accuracy for test data prediction\n",
    "       \n",
    "        test_model_score = accuracy_score(y_test,y_test_pred)\n",
    "\n",
    "        report[list(models.keys())[i]] =  test_model_score\n",
    "            \n",
    "\n",
    "            \n",
    "    return report"
   ]
  },
  {
   "cell_type": "code",
   "execution_count": 24,
   "id": "1602a187",
   "metadata": {},
   "outputs": [
    {
     "data": {
      "text/plain": [
       "{'Random Forest': 0.8021978021978022}"
      ]
     },
     "execution_count": 24,
     "metadata": {},
     "output_type": "execute_result"
    }
   ],
   "source": [
    "evaluate_model(X_train,y_train,X_test,y_test,models)"
   ]
  },
  {
   "cell_type": "code",
   "execution_count": null,
   "id": "e1f5da26",
   "metadata": {},
   "outputs": [],
   "source": [
    "Q5. Use the feature importance scores to identify the top 5 most important features in predicting heart \n",
    "disease risk. Visualise the feature importances using a bar chart."
   ]
  },
  {
   "cell_type": "code",
   "execution_count": 27,
   "id": "b272b69c",
   "metadata": {
    "scrolled": true
   },
   "outputs": [
    {
     "data": {
      "text/plain": [
       "0.8021978021978022"
      ]
     },
     "execution_count": 27,
     "metadata": {},
     "output_type": "execute_result"
    }
   ],
   "source": [
    "rf=RandomForestClassifier(n_estimators=100,max_depth=10)\n",
    "rf.fit(X_train,y_train)\n",
    "y_test_pred1=rf.predict(X_test)\n",
    "test_score = accuracy_score(y_test,y_test_pred1)\n",
    "test_score"
   ]
  },
  {
   "cell_type": "code",
   "execution_count": 28,
   "id": "c2283364",
   "metadata": {},
   "outputs": [
    {
     "data": {
      "text/plain": [
       "array([0.08241794, 0.02834598, 0.10649978, 0.07166535, 0.07442928,\n",
       "       0.0118283 , 0.01917793, 0.11816692, 0.06116013, 0.10175449,\n",
       "       0.05727039, 0.13408888, 0.13319464])"
      ]
     },
     "execution_count": 28,
     "metadata": {},
     "output_type": "execute_result"
    }
   ],
   "source": [
    "rf.feature_importances_"
   ]
  },
  {
   "cell_type": "code",
   "execution_count": 35,
   "id": "53445d7d",
   "metadata": {},
   "outputs": [],
   "source": [
    "re_features=['age', 'sex', 'cp', 'trestbps', 'chol', 'fbs', 'restecg', 'thalach',\n",
    "       'exang', 'oldpeak', 'slope', 'ca', 'thal']"
   ]
  },
  {
   "cell_type": "code",
   "execution_count": 38,
   "id": "2d4edd44",
   "metadata": {},
   "outputs": [],
   "source": [
    "import matplotlib.pyplot as plt\n",
    "import seaborn as sns"
   ]
  },
  {
   "cell_type": "code",
   "execution_count": 45,
   "id": "5add0e0d",
   "metadata": {},
   "outputs": [
    {
     "name": "stderr",
     "output_type": "stream",
     "text": [
      "C:\\Users\\aareb\\AppData\\Local\\Temp\\ipykernel_24032\\2666981268.py:4: UserWarning: FixedFormatter should only be used together with FixedLocator\n",
      "  ax.set_xticklabels(['age', 'sex', 'cp', 'trestbps', 'chol', 'fbs', 'restecg', 'thalach',\n"
     ]
    },
    {
     "data": {
      "image/png": "[encoded data removed]",
      "text/plain": [
       "<Figure size 640x480 with 1 Axes>"
      ]
     },
     "metadata": {},
     "output_type": "display_data"
    }
   ],
   "source": [
    "fig = plt.figure()\n",
    "ax = fig.add_axes([0,0,1.5,1.5])\n",
    "ax.bar(re_features,rf.feature_importances_)\n",
    "ax.set_xticklabels(['age', 'sex', 'cp', 'trestbps', 'chol', 'fbs', 'restecg', 'thalach',\n",
    "       'exang', 'oldpeak', 'slope', 'ca', 'thal'], rotation=45)\n",
    "plt.show()"
   ]
  },
  {
   "cell_type": "code",
   "execution_count": 50,
   "id": "95dd8fd5",
   "metadata": {
    "scrolled": true
   },
   "outputs": [
    {
     "data": {
      "image/png": "[encoded data removed]",
      "text/plain": [
       "<Figure size 640x480 with 1 Axes>"
      ]
     },
     "metadata": {},
     "output_type": "display_data"
    }
   ],
   "source": [
    "sns.barplot(x=re_features,y=rf.feature_importances_)\n",
    "plt.xticks(rotation=45)\n",
    "plt.show()"
   ]
  },
  {
   "cell_type": "markdown",
   "id": "335d2eec",
   "metadata": {},
   "source": [
    "## top 5 important feature score features are ca,thal, thalach,cp and oldpeak as order"
   ]
  },
  {
   "cell_type": "code",
   "execution_count": null,
   "id": "1d41f7d6",
   "metadata": {},
   "outputs": [],
   "source": [
    "Q6. Tune the hyperparameters of the random forest classifier using grid search or random search. Try \n",
    "different values of the number of trees, maximum depth, minimum samples split, and minimum samples \n",
    "leaf. Use 5-fold cross-validation to evaluate the performance of each set of hyperparameters."
   ]
  },
  {
   "cell_type": "code",
   "execution_count": 51,
   "id": "72e7bed9",
   "metadata": {},
   "outputs": [],
   "source": [
    "from sklearn.ensemble import RandomForestClassifier"
   ]
  },
  {
   "cell_type": "code",
   "execution_count": 52,
   "id": "a47717ca",
   "metadata": {},
   "outputs": [],
   "source": [
    "classifier=RandomForestClassifier()"
   ]
  },
  {
   "cell_type": "code",
   "execution_count": 53,
   "id": "959f691d",
   "metadata": {},
   "outputs": [],
   "source": [
    "## Hypeparameter Tuning\n",
    "params={'max_depth':[3,5,10,20],\n",
    "              'n_estimators':[100,200,300],\n",
    "               'criterion':['gini','entropy'],\n",
    "               'min_samples_split':[2,3],\n",
    "                'min_samples_leaf':[1,2]\n",
    "              }"
   ]
  },
  {
   "cell_type": "code",
   "execution_count": 54,
   "id": "56faf6b8",
   "metadata": {},
   "outputs": [],
   "source": [
    "from sklearn.model_selection import RandomizedSearchCV"
   ]
  },
  {
   "cell_type": "code",
   "execution_count": 55,
   "id": "fd181874",
   "metadata": {},
   "outputs": [
    {
     "name": "stdout",
     "output_type": "stream",
     "text": [
      "Fitting 5 folds for each of 10 candidates, totalling 50 fits\n",
      "[CV 1/5] END criterion=gini, max_depth=5, min_samples_leaf=2, min_samples_split=3, n_estimators=100;, score=0.884 total time=   0.1s\n",
      "[CV 2/5] END criterion=gini, max_depth=5, min_samples_leaf=2, min_samples_split=3, n_estimators=100;, score=0.837 total time=   0.1s\n",
      "[CV 3/5] END criterion=gini, max_depth=5, min_samples_leaf=2, min_samples_split=3, n_estimators=100;, score=0.714 total time=   0.1s\n",
      "[CV 4/5] END criterion=gini, max_depth=5, min_samples_leaf=2, min_samples_split=3, n_estimators=100;, score=0.905 total time=   0.1s\n",
      "[CV 5/5] END criterion=gini, max_depth=5, min_samples_leaf=2, min_samples_split=3, n_estimators=100;, score=0.762 total time=   0.1s\n",
      "[CV 1/5] END criterion=entropy, max_depth=5, min_samples_leaf=2, min_samples_split=3, n_estimators=300;, score=0.884 total time=   0.4s\n",
      "[CV 2/5] END criterion=entropy, max_depth=5, min_samples_leaf=2, min_samples_split=3, n_estimators=300;, score=0.860 total time=   0.4s\n",
      "[CV 3/5] END criterion=entropy, max_depth=5, min_samples_leaf=2, min_samples_split=3, n_estimators=300;, score=0.738 total time=   0.4s\n",
      "[CV 4/5] END criterion=entropy, max_depth=5, min_samples_leaf=2, min_samples_split=3, n_estimators=300;, score=0.905 total time=   0.4s\n",
      "[CV 5/5] END criterion=entropy, max_depth=5, min_samples_leaf=2, min_samples_split=3, n_estimators=300;, score=0.762 total time=   0.4s\n",
      "[CV 1/5] END criterion=gini, max_depth=3, min_samples_leaf=1, min_samples_split=3, n_estimators=200;, score=0.884 total time=   0.2s\n",
      "[CV 2/5] END criterion=gini, max_depth=3, min_samples_leaf=1, min_samples_split=3, n_estimators=200;, score=0.860 total time=   0.2s\n",
      "[CV 3/5] END criterion=gini, max_depth=3, min_samples_leaf=1, min_samples_split=3, n_estimators=200;, score=0.714 total time=   0.2s\n",
      "[CV 4/5] END criterion=gini, max_depth=3, min_samples_leaf=1, min_samples_split=3, n_estimators=200;, score=0.905 total time=   0.2s\n",
      "[CV 5/5] END criterion=gini, max_depth=3, min_samples_leaf=1, min_samples_split=3, n_estimators=200;, score=0.738 total time=   0.3s\n",
      "[CV 1/5] END criterion=entropy, max_depth=3, min_samples_leaf=2, min_samples_split=3, n_estimators=200;, score=0.884 total time=   0.2s\n",
      "[CV 2/5] END criterion=entropy, max_depth=3, min_samples_leaf=2, min_samples_split=3, n_estimators=200;, score=0.860 total time=   0.2s\n",
      "[CV 3/5] END criterion=entropy, max_depth=3, min_samples_leaf=2, min_samples_split=3, n_estimators=200;, score=0.714 total time=   0.2s\n",
      "[CV 4/5] END criterion=entropy, max_depth=3, min_samples_leaf=2, min_samples_split=3, n_estimators=200;, score=0.905 total time=   0.2s\n",
      "[CV 5/5] END criterion=entropy, max_depth=3, min_samples_leaf=2, min_samples_split=3, n_estimators=200;, score=0.762 total time=   0.2s\n",
      "[CV 1/5] END criterion=entropy, max_depth=10, min_samples_leaf=1, min_samples_split=2, n_estimators=200;, score=0.860 total time=   0.2s\n",
      "[CV 2/5] END criterion=entropy, max_depth=10, min_samples_leaf=1, min_samples_split=2, n_estimators=200;, score=0.860 total time=   0.2s\n",
      "[CV 3/5] END criterion=entropy, max_depth=10, min_samples_leaf=1, min_samples_split=2, n_estimators=200;, score=0.667 total time=   0.2s\n",
      "[CV 4/5] END criterion=entropy, max_depth=10, min_samples_leaf=1, min_samples_split=2, n_estimators=200;, score=0.905 total time=   0.2s\n",
      "[CV 5/5] END criterion=entropy, max_depth=10, min_samples_leaf=1, min_samples_split=2, n_estimators=200;, score=0.738 total time=   0.2s\n",
      "[CV 1/5] END criterion=entropy, max_depth=20, min_samples_leaf=1, min_samples_split=2, n_estimators=100;, score=0.837 total time=   0.1s\n",
      "[CV 2/5] END criterion=entropy, max_depth=20, min_samples_leaf=1, min_samples_split=2, n_estimators=100;, score=0.837 total time=   0.1s\n",
      "[CV 3/5] END criterion=entropy, max_depth=20, min_samples_leaf=1, min_samples_split=2, n_estimators=100;, score=0.762 total time=   0.1s\n",
      "[CV 4/5] END criterion=entropy, max_depth=20, min_samples_leaf=1, min_samples_split=2, n_estimators=100;, score=0.857 total time=   0.1s\n",
      "[CV 5/5] END criterion=entropy, max_depth=20, min_samples_leaf=1, min_samples_split=2, n_estimators=100;, score=0.762 total time=   0.1s\n",
      "[CV 1/5] END criterion=entropy, max_depth=20, min_samples_leaf=2, min_samples_split=3, n_estimators=200;, score=0.884 total time=   0.2s\n",
      "[CV 2/5] END criterion=entropy, max_depth=20, min_samples_leaf=2, min_samples_split=3, n_estimators=200;, score=0.860 total time=   0.2s\n",
      "[CV 3/5] END criterion=entropy, max_depth=20, min_samples_leaf=2, min_samples_split=3, n_estimators=200;, score=0.690 total time=   0.1s\n",
      "[CV 4/5] END criterion=entropy, max_depth=20, min_samples_leaf=2, min_samples_split=3, n_estimators=200;, score=0.905 total time=   0.1s\n",
      "[CV 5/5] END criterion=entropy, max_depth=20, min_samples_leaf=2, min_samples_split=3, n_estimators=200;, score=0.738 total time=   0.1s\n",
      "[CV 1/5] END criterion=entropy, max_depth=20, min_samples_leaf=1, min_samples_split=3, n_estimators=300;, score=0.884 total time=   0.3s\n",
      "[CV 2/5] END criterion=entropy, max_depth=20, min_samples_leaf=1, min_samples_split=3, n_estimators=300;, score=0.860 total time=   0.3s\n",
      "[CV 3/5] END criterion=entropy, max_depth=20, min_samples_leaf=1, min_samples_split=3, n_estimators=300;, score=0.690 total time=   0.3s\n",
      "[CV 4/5] END criterion=entropy, max_depth=20, min_samples_leaf=1, min_samples_split=3, n_estimators=300;, score=0.881 total time=   0.3s\n",
      "[CV 5/5] END criterion=entropy, max_depth=20, min_samples_leaf=1, min_samples_split=3, n_estimators=300;, score=0.762 total time=   0.3s\n",
      "[CV 1/5] END criterion=gini, max_depth=10, min_samples_leaf=2, min_samples_split=3, n_estimators=300;, score=0.884 total time=   0.2s\n",
      "[CV 2/5] END criterion=gini, max_depth=10, min_samples_leaf=2, min_samples_split=3, n_estimators=300;, score=0.860 total time=   0.2s\n",
      "[CV 3/5] END criterion=gini, max_depth=10, min_samples_leaf=2, min_samples_split=3, n_estimators=300;, score=0.690 total time=   0.2s\n",
      "[CV 4/5] END criterion=gini, max_depth=10, min_samples_leaf=2, min_samples_split=3, n_estimators=300;, score=0.905 total time=   0.3s\n",
      "[CV 5/5] END criterion=gini, max_depth=10, min_samples_leaf=2, min_samples_split=3, n_estimators=300;, score=0.738 total time=   0.3s\n",
      "[CV 1/5] END criterion=gini, max_depth=5, min_samples_leaf=1, min_samples_split=3, n_estimators=300;, score=0.860 total time=   0.2s\n",
      "[CV 2/5] END criterion=gini, max_depth=5, min_samples_leaf=1, min_samples_split=3, n_estimators=300;, score=0.860 total time=   0.2s\n",
      "[CV 3/5] END criterion=gini, max_depth=5, min_samples_leaf=1, min_samples_split=3, n_estimators=300;, score=0.714 total time=   0.2s\n",
      "[CV 4/5] END criterion=gini, max_depth=5, min_samples_leaf=1, min_samples_split=3, n_estimators=300;, score=0.881 total time=   0.2s\n",
      "[CV 5/5] END criterion=gini, max_depth=5, min_samples_leaf=1, min_samples_split=3, n_estimators=300;, score=0.762 total time=   0.2s\n"
     ]
    },
    {
     "data": {
      "text/plain": [
       "RandomizedSearchCV(cv=5, estimator=RandomForestClassifier(),\n",
       "                   param_distributions={'criterion': ['gini', 'entropy'],\n",
       "                                        'max_depth': [3, 5, 10, 20],\n",
       "                                        'min_samples_leaf': [1, 2],\n",
       "                                        'min_samples_split': [2, 3],\n",
       "                                        'n_estimators': [100, 200, 300]},\n",
       "                   scoring='accuracy', verbose=3)"
      ]
     },
     "execution_count": 55,
     "metadata": {},
     "output_type": "execute_result"
    }
   ],
   "source": [
    "cv=RandomizedSearchCV(classifier,param_distributions=params,scoring='accuracy',cv=5,verbose=3)\n",
    "cv.fit(X_train,y_train)"
   ]
  },
  {
   "cell_type": "code",
   "execution_count": 56,
   "id": "61baa7d9",
   "metadata": {},
   "outputs": [
    {
     "data": {
      "text/plain": [
       "{'n_estimators': 300,\n",
       " 'min_samples_split': 3,\n",
       " 'min_samples_leaf': 2,\n",
       " 'max_depth': 5,\n",
       " 'criterion': 'entropy'}"
      ]
     },
     "execution_count": 56,
     "metadata": {},
     "output_type": "execute_result"
    }
   ],
   "source": [
    "cv.best_params_"
   ]
  },
  {
   "cell_type": "code",
   "execution_count": null,
   "id": "26baa8ff",
   "metadata": {},
   "outputs": [],
   "source": [
    "Q7. Report the best set of hyperparameters found by the search and the corresponding performance \n",
    "metrics. Compare the performance of the tuned model with the default model."
   ]
  },
  {
   "cell_type": "code",
   "execution_count": 57,
   "id": "3a65a893",
   "metadata": {},
   "outputs": [
    {
     "data": {
      "text/plain": [
       "0.8241758241758241"
      ]
     },
     "execution_count": 57,
     "metadata": {},
     "output_type": "execute_result"
    }
   ],
   "source": [
    "classifier1=RandomForestClassifier(n_estimators= 200,\n",
    " min_samples_split= 2,\n",
    " min_samples_leaf= 2,\n",
    " max_depth= 20,\n",
    " criterion= 'gini')\n",
    "\n",
    "classifier1.fit(X_train,y_train)\n",
    "y_test_pred=classifier1.predict(X_test)\n",
    "classifier1_score = accuracy_score(y_test,y_test_pred)\n",
    "classifier1_score"
   ]
  },
  {
   "cell_type": "markdown",
   "id": "03e6b3d8",
   "metadata": {},
   "source": [
    "-- Performance of tuned model is 83.5% greater than default model performance of 82.47"
   ]
  },
  {
   "cell_type": "code",
   "execution_count": null,
   "id": "a72aab78",
   "metadata": {},
   "outputs": [],
   "source": [
    "Q8. Interpret the model by analysing the decision boundaries of the random forest classifier. Plot the \n",
    "decision boundaries on a scatter plot of two of the most important features. Discuss the insights and \n",
    "limitations of the model for predicting heart disease risk."
   ]
  },
  {
   "cell_type": "markdown",
   "id": "cdd92c89",
   "metadata": {},
   "source": [
    "### ca,thal are 2 most impoerant features"
   ]
  },
  {
   "cell_type": "code",
   "execution_count": 70,
   "id": "ffaffdae",
   "metadata": {},
   "outputs": [],
   "source": [
    "df1=df[[\"ca\",\"thal\"]]"
   ]
  },
  {
   "cell_type": "code",
   "execution_count": 71,
   "id": "9ad554d7",
   "metadata": {},
   "outputs": [
    {
     "data": {
      "text/html": [
       "<div>\n",
       "<style scoped>\n",
       "    .dataframe tbody tr th:only-of-type {\n",
       "        vertical-align: middle;\n",
       "    }\n",
       "\n",
       "    .dataframe tbody tr th {\n",
       "        vertical-align: top;\n",
       "    }\n",
       "\n",
       "    .dataframe thead th {\n",
       "        text-align: right;\n",
       "    }\n",
       "</style>\n",
       "<table border=\"1\" class=\"dataframe\">\n",
       "  <thead>\n",
       "    <tr style=\"text-align: right;\">\n",
       "      <th></th>\n",
       "      <th>ca</th>\n",
       "      <th>thal</th>\n",
       "    </tr>\n",
       "  </thead>\n",
       "  <tbody>\n",
       "    <tr>\n",
       "      <th>0</th>\n",
       "      <td>0</td>\n",
       "      <td>1</td>\n",
       "    </tr>\n",
       "    <tr>\n",
       "      <th>1</th>\n",
       "      <td>0</td>\n",
       "      <td>2</td>\n",
       "    </tr>\n",
       "    <tr>\n",
       "      <th>2</th>\n",
       "      <td>0</td>\n",
       "      <td>2</td>\n",
       "    </tr>\n",
       "    <tr>\n",
       "      <th>3</th>\n",
       "      <td>0</td>\n",
       "      <td>2</td>\n",
       "    </tr>\n",
       "    <tr>\n",
       "      <th>4</th>\n",
       "      <td>0</td>\n",
       "      <td>2</td>\n",
       "    </tr>\n",
       "    <tr>\n",
       "      <th>...</th>\n",
       "      <td>...</td>\n",
       "      <td>...</td>\n",
       "    </tr>\n",
       "    <tr>\n",
       "      <th>298</th>\n",
       "      <td>0</td>\n",
       "      <td>3</td>\n",
       "    </tr>\n",
       "    <tr>\n",
       "      <th>299</th>\n",
       "      <td>0</td>\n",
       "      <td>3</td>\n",
       "    </tr>\n",
       "    <tr>\n",
       "      <th>300</th>\n",
       "      <td>2</td>\n",
       "      <td>3</td>\n",
       "    </tr>\n",
       "    <tr>\n",
       "      <th>301</th>\n",
       "      <td>1</td>\n",
       "      <td>3</td>\n",
       "    </tr>\n",
       "    <tr>\n",
       "      <th>302</th>\n",
       "      <td>1</td>\n",
       "      <td>2</td>\n",
       "    </tr>\n",
       "  </tbody>\n",
       "</table>\n",
       "<p>303 rows × 2 columns</p>\n",
       "</div>"
      ],
      "text/plain": [
       "     ca  thal\n",
       "0     0     1\n",
       "1     0     2\n",
       "2     0     2\n",
       "3     0     2\n",
       "4     0     2\n",
       "..   ..   ...\n",
       "298   0     3\n",
       "299   0     3\n",
       "300   2     3\n",
       "301   1     3\n",
       "302   1     2\n",
       "\n",
       "[303 rows x 2 columns]"
      ]
     },
     "execution_count": 71,
     "metadata": {},
     "output_type": "execute_result"
    }
   ],
   "source": [
    "df1"
   ]
  },
  {
   "cell_type": "code",
   "execution_count": 74,
   "id": "eccf89b2",
   "metadata": {},
   "outputs": [
    {
     "data": {
      "text/plain": [
       "Text(0, 0.5, 'thal')"
      ]
     },
     "execution_count": 74,
     "metadata": {},
     "output_type": "execute_result"
    },
    {
     "data": {
      "image/png": "[encoded data removed]",
      "text/plain": [
       "<Figure size 640x480 with 1 Axes>"
      ]
     },
     "metadata": {},
     "output_type": "display_data"
    }
   ],
   "source": [
    "plt.scatter(df1[\"ca\"],df[\"thal\"])\n",
    "plt.xlabel(\"ca\")\n",
    "plt.ylabel(\"thal\")"
   ]
  }
 ],
 "metadata": {
  "kernelspec": {
   "display_name": "Python 3 (ipykernel)",
   "language": "python",
   "name": "python3"
  },
  "language_info": {
   "codemirror_mode": {
    "name": "ipython",
    "version": 3
   },
   "file_extension": ".py",
   "mimetype": "text/x-python",
   "name": "python",
   "nbconvert_exporter": "python",
   "pygments_lexer": "ipython3",
   "version": "3.9.13"
  }
 },
 "nbformat": 4,
 "nbformat_minor": 5
}
