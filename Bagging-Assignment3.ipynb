{
 "cells": [
  {
   "cell_type": "code",
   "execution_count": null,
   "id": "45c2aefa",
   "metadata": {},
   "outputs": [],
   "source": [
    "Q1. What is Random Forest Regressor?"
   ]
  },
  {
   "cell_type": "markdown",
   "id": "cea29b21",
   "metadata": {},
   "source": [
    "#### A random forest regressor. A random forest is a meta estimator that fits a number of classifying decision trees on various sub-samples of the dataset and uses averaging to improve the predictive accuracy and control over-fitting."
   ]
  },
  {
   "cell_type": "code",
   "execution_count": null,
   "id": "ba2a56d9",
   "metadata": {},
   "outputs": [],
   "source": [
    "Q2. How does Random Forest Regressor reduce the risk of overfitting?"
   ]
  },
  {
   "cell_type": "markdown",
   "id": "3da34aed",
   "metadata": {},
   "source": [
    "#### Random forests deals with the problem of overfitting by creating multiple trees, with each tree trained slightly differently so it overfits differently. Random forests is a classifier that combines a large number of decision trees. The decisions of each tree are then combined to make the final classification."
   ]
  },
  {
   "cell_type": "code",
   "execution_count": null,
   "id": "cfc3540d",
   "metadata": {},
   "outputs": [],
   "source": [
    "Q3. How does Random Forest Regressor aggregate the predictions of multiple decision trees?"
   ]
  },
  {
   "cell_type": "markdown",
   "id": "23092e26",
   "metadata": {},
   "source": [
    "#### Averaging output of all the models."
   ]
  },
  {
   "cell_type": "code",
   "execution_count": null,
   "id": "38b18011",
   "metadata": {},
   "outputs": [],
   "source": [
    "Q4. What are the hyperparameters of Random Forest Regressor?"
   ]
  },
  {
   "cell_type": "markdown",
   "id": "40bb268f",
   "metadata": {},
   "source": [
    "#### Criterion and max features are the hyperparameters of Random Forest Regressor.\n",
    "\n",
    "-- criterion{“squared_error”, “absolute_error”, “friedman_mse”, “poisson”}, default=”squared_error”\n",
    "\n",
    "-- max_features{“sqrt”, “log2”, None}, int or float, default=1.0"
   ]
  },
  {
   "cell_type": "code",
   "execution_count": null,
   "id": "490bcd1a",
   "metadata": {},
   "outputs": [],
   "source": [
    "Q5. What is the difference between Random Forest Regressor and Decision Tree Regressor?"
   ]
  },
  {
   "cell_type": "markdown",
   "id": "0984f6c2",
   "metadata": {},
   "source": [
    "#### A decision tree combines some decisions, whereas a random forest combines several decision trees. Thus, it is a long process, yet slow. Whereas, a decision tree is fast and operates easily on large data sets, especially the linear one. The random forest model needs rigorous training."
   ]
  },
  {
   "cell_type": "code",
   "execution_count": null,
   "id": "3272040f",
   "metadata": {},
   "outputs": [],
   "source": [
    "Q6. What are the advantages and disadvantages of Random Forest Regressor?"
   ]
  },
  {
   "cell_type": "markdown",
   "id": "2dc14a00",
   "metadata": {},
   "source": [
    "#### advantages\n",
    "\n",
    "-- It reduces overfitting in decision trees and helps to improve the accuracy\n",
    "\n",
    "-- It is flexible to both classification and regression problems\n",
    "\n",
    "-- It works well with both categorical and continuous values\n",
    "\n",
    "-- It automates missing values present in the data\n",
    "\n",
    "-- Normalising of data is not required as it uses a rule-based approach."
   ]
  },
  {
   "cell_type": "markdown",
   "id": "eb03fb09",
   "metadata": {},
   "source": [
    "#### disadvantages\n",
    "\n",
    "-- It requires much computational power as well as resources as it builds numerous trees to combine their outputs. \n",
    "\n",
    "-- It also requires much time for training as it combines a lot of decision trees to determine the class.\n",
    "\n",
    "-- Due to the ensemble of decision trees, it also suffers interpretability and fails to determine the significance of each variable."
   ]
  },
  {
   "cell_type": "code",
   "execution_count": null,
   "id": "0064d5bc",
   "metadata": {},
   "outputs": [],
   "source": [
    "Q7. What is the output of Random Forest Regressor?"
   ]
  },
  {
   "cell_type": "markdown",
   "id": "a242ce6c",
   "metadata": {},
   "source": [
    "#### For regression tasks, the mean or average prediction of the individual trees is returned."
   ]
  },
  {
   "cell_type": "code",
   "execution_count": null,
   "id": "23ed5c86",
   "metadata": {},
   "outputs": [],
   "source": [
    "Q8. Can Random Forest Regressor be used for classification tasks?"
   ]
  },
  {
   "cell_type": "markdown",
   "id": "06530115",
   "metadata": {},
   "source": [
    "#### No, we have to use Random Forest Classifier for classification tasks."
   ]
  }
 ],
 "metadata": {
  "kernelspec": {
   "display_name": "Python 3 (ipykernel)",
   "language": "python",
   "name": "python3"
  },
  "language_info": {
   "codemirror_mode": {
    "name": "ipython",
    "version": 3
   },
   "file_extension": ".py",
   "mimetype": "text/x-python",
   "name": "python",
   "nbconvert_exporter": "python",
   "pygments_lexer": "ipython3",
   "version": "3.9.13"
  }
 },
 "nbformat": 4,
 "nbformat_minor": 5
}
