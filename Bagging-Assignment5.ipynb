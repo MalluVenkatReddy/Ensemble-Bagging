{
 "cells": [
  {
   "cell_type": "code",
   "execution_count": null,
   "id": "f9385f06",
   "metadata": {},
   "outputs": [],
   "source": [
    "Q1. You are working on a machine learning project where you have a dataset containing numerical and \n",
    "categorical features. You have identified that some of the features are highly correlated and there are \n",
    "missing values in some of the columns. You want to build a pipeline that automates the feature \n",
    "engineering process and handles the missing values."
   ]
  },
  {
   "cell_type": "code",
   "execution_count": null,
   "id": "67de4b3c",
   "metadata": {},
   "outputs": [],
   "source": [
    "Design a pipeline that includes the following steps\"\n",
    " Use an automated feature selection method to identify the important features in the dataset\n",
    " Create a numerical pipeline that includes the following steps\"\n",
    " Impute the missing values in the numerical columns using the mean of the column values\n",
    " Scale the numerical columns using standardisation\n",
    " Create a categorical pipeline that includes the following steps\"\n",
    " Impute the missing values in the categorical columns using the most frequent value of the column\n",
    " One-hot encode the categorical columns\n",
    " Combine the numerical and categorical pipelines using a ColumnTransformer\n",
    " Use a Random Forest Classifier to build the final model\n",
    " Evaluate the accuracy of the model on the test dataset"
   ]
  },
  {
   "cell_type": "code",
   "execution_count": null,
   "id": "91366fd1",
   "metadata": {},
   "outputs": [],
   "source": [
    "Note: Your solution should include code snippets for each step of the pipeline, and a brief explanation of \n",
    "each step. You should also provide an interpretation of the results and suggest possible improvements for \n",
    "the pipeline."
   ]
  },
  {
   "cell_type": "markdown",
   "id": "94e0b1c6",
   "metadata": {},
   "source": [
    "## Above assignment will perform with some example"
   ]
  },
  {
   "cell_type": "code",
   "execution_count": 1,
   "id": "9af5d3f1",
   "metadata": {},
   "outputs": [],
   "source": [
    "import seaborn as sns\n",
    "df=sns.load_dataset('tips')\n",
    "\n",
    "\n",
    "from sklearn.preprocessing import LabelEncoder\n",
    "encoder=LabelEncoder()\n",
    "df['time']=encoder.fit_transform(df['time'])\n",
    "\n",
    "X=df.drop(labels=['time'],axis=1)\n",
    "y=df['time']\n",
    "\n",
    "from sklearn.model_selection import train_test_split\n",
    "X_train,X_test,y_train,y_test=train_test_split(X,y,test_size=0.20,random_state=42)"
   ]
  },
  {
   "cell_type": "markdown",
   "id": "e759fc97",
   "metadata": {},
   "source": [
    "#### import below sklearn modules which required for this code"
   ]
  },
  {
   "cell_type": "code",
   "execution_count": 2,
   "id": "147b5d6e",
   "metadata": {},
   "outputs": [],
   "source": [
    "from sklearn.impute import SimpleImputer ## Handling Missing Values\n",
    "from sklearn.preprocessing import OneHotEncoder## handling Categorical features\n",
    "from sklearn.preprocessing import StandardScaler## Feature scaling\n",
    "from sklearn.pipeline import Pipeline\n",
    "from sklearn.compose import ColumnTransformer"
   ]
  },
  {
   "cell_type": "markdown",
   "id": "7438b22c",
   "metadata": {},
   "source": [
    "#### 1. Use an automated feature selection method to identify the important features in the datasetC"
   ]
  },
  {
   "cell_type": "code",
   "execution_count": 3,
   "id": "f106980b",
   "metadata": {},
   "outputs": [],
   "source": [
    "categorical_cols = ['sex', 'smoker','day']\n",
    "numerical_cols = ['total_bill', 'tip','size']"
   ]
  },
  {
   "cell_type": "markdown",
   "id": "3d841188",
   "metadata": {},
   "source": [
    "###  2. Create a numerical pipeline that includes the following steps\"\n",
    "####  Impute the missing values in the numerical columns using the mean of the column values \n",
    "####  Scale the numerical columns using standardisation'''"
   ]
  },
  {
   "cell_type": "code",
   "execution_count": 4,
   "id": "797620a2",
   "metadata": {},
   "outputs": [],
   "source": [
    "## Feature Engineering Automation\n",
    "num_pipeline=Pipeline(\n",
    "    steps=[\n",
    "        ('imputer',SimpleImputer(strategy='median')), ##missing values\n",
    "        ('scaler',StandardScaler())## feature scaling \n",
    "    ]\n",
    "\n",
    ")"
   ]
  },
  {
   "cell_type": "markdown",
   "id": "6c589afd",
   "metadata": {},
   "source": [
    "### 3. Create a categorical pipeline that includes the following steps\"\n",
    "#### Impute the missing values in the categorical columns using the most frequent value of the column\n",
    "#### One-hot encode the categorical columns"
   ]
  },
  {
   "cell_type": "code",
   "execution_count": 5,
   "id": "639b10ac",
   "metadata": {},
   "outputs": [],
   "source": [
    "#categorical Pipeline\n",
    "cat_pipeline=Pipeline(\n",
    "                steps=[\n",
    "                ('imputer',SimpleImputer(strategy='most_frequent')), ## handling Missing values\n",
    "                ('onehotencoder',OneHotEncoder()) ## Categorical features to numerical\n",
    "                ]\n",
    "\n",
    "            ) "
   ]
  },
  {
   "cell_type": "code",
   "execution_count": null,
   "id": "c6703eed",
   "metadata": {},
   "outputs": [],
   "source": [
    "### Combine the numerical and categorical pipelines using a ColumnTransformer\n",
    "#### Use a Random Forest Classifier to build the final model"
   ]
  },
  {
   "cell_type": "code",
   "execution_count": 6,
   "id": "69d93cfe",
   "metadata": {},
   "outputs": [],
   "source": [
    "preprocessor=ColumnTransformer([\n",
    "    ('num_pipeline',num_pipeline,numerical_cols),\n",
    "    ('cat_pipeline',cat_pipeline,categorical_cols)\n",
    "\n",
    "])"
   ]
  },
  {
   "cell_type": "code",
   "execution_count": 7,
   "id": "6edf8e59",
   "metadata": {},
   "outputs": [],
   "source": [
    "X_train=preprocessor.fit_transform(X_train)\n",
    "X_test=preprocessor.transform(X_test)"
   ]
  },
  {
   "cell_type": "code",
   "execution_count": 8,
   "id": "b8a91f8f",
   "metadata": {},
   "outputs": [],
   "source": [
    "from sklearn.ensemble import RandomForestClassifier\n",
    "\n",
    "## Automate Model Training Process\n",
    "models={\n",
    "    'Random Forest':RandomForestClassifier(),\n",
    "\n",
    "}"
   ]
  },
  {
   "cell_type": "markdown",
   "id": "02c698c3",
   "metadata": {},
   "source": [
    "### 4. Evaluate the accuracy of the model on the test dataset"
   ]
  },
  {
   "cell_type": "code",
   "execution_count": 9,
   "id": "62258e6b",
   "metadata": {},
   "outputs": [],
   "source": [
    "from sklearn.metrics import accuracy_score"
   ]
  },
  {
   "cell_type": "code",
   "execution_count": 10,
   "id": "171acf50",
   "metadata": {},
   "outputs": [],
   "source": [
    "def evaluate_model(X_train,y_train,X_test,y_test,models):\n",
    "    \n",
    "    report = {}\n",
    "    for i in range(len(models)):\n",
    "        model = list(models.values())[i]\n",
    "        # Train model\n",
    "        model.fit(X_train,y_train)\n",
    "\n",
    "            \n",
    "\n",
    "        # Predict Testing data\n",
    "        y_test_pred =model.predict(X_test)\n",
    "\n",
    "        # Get accuracy for test data prediction\n",
    "       \n",
    "        test_model_score = accuracy_score(y_test,y_test_pred)\n",
    "\n",
    "        report[list(models.keys())[i]] =  test_model_score\n",
    "            \n",
    "\n",
    "            \n",
    "    return report"
   ]
  },
  {
   "cell_type": "code",
   "execution_count": 11,
   "id": "c360f7a6",
   "metadata": {},
   "outputs": [
    {
     "data": {
      "text/plain": [
       "{'Random Forest': 0.9591836734693877}"
      ]
     },
     "execution_count": 11,
     "metadata": {},
     "output_type": "execute_result"
    }
   ],
   "source": [
    "evaluate_model(X_train,y_train,X_test,y_test,models)"
   ]
  },
  {
   "cell_type": "markdown",
   "id": "285607ef",
   "metadata": {},
   "source": [
    "Q2. Build a pipeline that includes a random forest classifier and a logistic regression classifier, and then \n",
    "use a voting classifier to combine their predictions. Train the pipeline on the iris dataset and evaluate its \n",
    "accuracy."
   ]
  },
  {
   "cell_type": "code",
   "execution_count": 70,
   "id": "6da166df",
   "metadata": {},
   "outputs": [
    {
     "data": {
      "text/html": [
       "<div>\n",
       "<style scoped>\n",
       "    .dataframe tbody tr th:only-of-type {\n",
       "        vertical-align: middle;\n",
       "    }\n",
       "\n",
       "    .dataframe tbody tr th {\n",
       "        vertical-align: top;\n",
       "    }\n",
       "\n",
       "    .dataframe thead th {\n",
       "        text-align: right;\n",
       "    }\n",
       "</style>\n",
       "<table border=\"1\" class=\"dataframe\">\n",
       "  <thead>\n",
       "    <tr style=\"text-align: right;\">\n",
       "      <th></th>\n",
       "      <th>sepal_length</th>\n",
       "      <th>sepal_width</th>\n",
       "      <th>petal_length</th>\n",
       "      <th>petal_width</th>\n",
       "      <th>species</th>\n",
       "    </tr>\n",
       "  </thead>\n",
       "  <tbody>\n",
       "    <tr>\n",
       "      <th>0</th>\n",
       "      <td>5.1</td>\n",
       "      <td>3.5</td>\n",
       "      <td>1.4</td>\n",
       "      <td>0.2</td>\n",
       "      <td>setosa</td>\n",
       "    </tr>\n",
       "    <tr>\n",
       "      <th>1</th>\n",
       "      <td>4.9</td>\n",
       "      <td>3.0</td>\n",
       "      <td>1.4</td>\n",
       "      <td>0.2</td>\n",
       "      <td>setosa</td>\n",
       "    </tr>\n",
       "    <tr>\n",
       "      <th>2</th>\n",
       "      <td>4.7</td>\n",
       "      <td>3.2</td>\n",
       "      <td>1.3</td>\n",
       "      <td>0.2</td>\n",
       "      <td>setosa</td>\n",
       "    </tr>\n",
       "    <tr>\n",
       "      <th>3</th>\n",
       "      <td>4.6</td>\n",
       "      <td>3.1</td>\n",
       "      <td>1.5</td>\n",
       "      <td>0.2</td>\n",
       "      <td>setosa</td>\n",
       "    </tr>\n",
       "    <tr>\n",
       "      <th>4</th>\n",
       "      <td>5.0</td>\n",
       "      <td>3.6</td>\n",
       "      <td>1.4</td>\n",
       "      <td>0.2</td>\n",
       "      <td>setosa</td>\n",
       "    </tr>\n",
       "  </tbody>\n",
       "</table>\n",
       "</div>"
      ],
      "text/plain": [
       "   sepal_length  sepal_width  petal_length  petal_width species\n",
       "0           5.1          3.5           1.4          0.2  setosa\n",
       "1           4.9          3.0           1.4          0.2  setosa\n",
       "2           4.7          3.2           1.3          0.2  setosa\n",
       "3           4.6          3.1           1.5          0.2  setosa\n",
       "4           5.0          3.6           1.4          0.2  setosa"
      ]
     },
     "execution_count": 70,
     "metadata": {},
     "output_type": "execute_result"
    }
   ],
   "source": [
    "import seaborn as sns\n",
    "df=sns.load_dataset('iris')\n",
    "df.head()"
   ]
  },
  {
   "cell_type": "code",
   "execution_count": 71,
   "id": "e737ec49",
   "metadata": {},
   "outputs": [],
   "source": [
    "from sklearn.preprocessing import LabelEncoder\n",
    "encoder=LabelEncoder()\n",
    "df['species']=encoder.fit_transform(df['species'])"
   ]
  },
  {
   "cell_type": "code",
   "execution_count": 72,
   "id": "bfc2bbbc",
   "metadata": {},
   "outputs": [],
   "source": [
    "X=df.drop(labels=['species'],axis=1)\n",
    "y=df['species']"
   ]
  },
  {
   "cell_type": "code",
   "execution_count": 73,
   "id": "75d48026",
   "metadata": {},
   "outputs": [],
   "source": [
    "from sklearn.model_selection import train_test_split\n",
    "X_train,X_test,y_train,y_test=train_test_split(X,y,test_size=0.20,random_state=42)"
   ]
  },
  {
   "cell_type": "code",
   "execution_count": 74,
   "id": "365d7221",
   "metadata": {},
   "outputs": [],
   "source": [
    "from sklearn.impute import SimpleImputer ## Handling Missing Values\n",
    "from sklearn.preprocessing import OneHotEncoder## handling Categorical features\n",
    "from sklearn.preprocessing import StandardScaler## Feature scaling\n",
    "from sklearn.pipeline import Pipeline\n",
    "from sklearn.compose import ColumnTransformer\n",
    "## Automating the entire"
   ]
  },
  {
   "cell_type": "code",
   "execution_count": 75,
   "id": "f9eb8aed",
   "metadata": {},
   "outputs": [],
   "source": [
    "categorical_cols = ['species']\n",
    "numerical_cols = ['sepal_length', 'sepal_width', 'petal_length', 'petal_width']"
   ]
  },
  {
   "cell_type": "code",
   "execution_count": 76,
   "id": "9191148f",
   "metadata": {},
   "outputs": [],
   "source": [
    "## Feature Engineering Automation\n",
    "num_pipeline=Pipeline(\n",
    "    steps=[\n",
    "        ('imputer',SimpleImputer(strategy='median')), ##missing values\n",
    "        ('scaler',StandardScaler())## feature scaling \n",
    "    ]\n",
    "\n",
    ")\n",
    "\n",
    "#categorical Pipeline\n",
    "cat_pipeline=Pipeline(\n",
    "                steps=[\n",
    "                ('imputer',SimpleImputer(strategy='most_frequent')), ## handling Missing values\n",
    "                ('onehotencoder',OneHotEncoder()) ## Categorical features to numerical\n",
    "                ]\n",
    "\n",
    "            )  \n",
    "\n",
    "preprocessor=ColumnTransformer([\n",
    "    ('num_pipeline',num_pipeline,numerical_cols),\n",
    "##    ('cat_pipeline',cat_pipeline,categorical_cols)\n",
    "\n",
    "])\n",
    "\n",
    "X_train=preprocessor.fit_transform(X_train)\n",
    "X_test=preprocessor.transform(X_test)"
   ]
  },
  {
   "cell_type": "code",
   "execution_count": 77,
   "id": "8e249631",
   "metadata": {},
   "outputs": [],
   "source": [
    "from sklearn.ensemble import RandomForestClassifier, VotingClassifier\n",
    "from sklearn.linear_model import LogisticRegression"
   ]
  },
  {
   "cell_type": "code",
   "execution_count": 78,
   "id": "21bbf318",
   "metadata": {},
   "outputs": [],
   "source": [
    "from sklearn.metrics import accuracy_score"
   ]
  },
  {
   "cell_type": "code",
   "execution_count": 79,
   "id": "8ef5b57a",
   "metadata": {},
   "outputs": [],
   "source": [
    "clf1=RandomForestClassifier()"
   ]
  },
  {
   "cell_type": "code",
   "execution_count": 80,
   "id": "41d36ce1",
   "metadata": {},
   "outputs": [],
   "source": [
    "clf2=LogisticRegression()"
   ]
  },
  {
   "cell_type": "code",
   "execution_count": 81,
   "id": "bff0318e",
   "metadata": {},
   "outputs": [],
   "source": [
    "vclf=VotingClassifier(estimators=[ ('lr', clf1), ('rf', clf2)], voting='soft')"
   ]
  },
  {
   "cell_type": "code",
   "execution_count": 82,
   "id": "abc32fd4",
   "metadata": {},
   "outputs": [
    {
     "data": {
      "text/plain": [
       "VotingClassifier(estimators=[('lr', RandomForestClassifier()),\n",
       "                             ('rf', LogisticRegression())],\n",
       "                 voting='soft')"
      ]
     },
     "execution_count": 82,
     "metadata": {},
     "output_type": "execute_result"
    }
   ],
   "source": [
    "vclf.fit(X_train,y_train)"
   ]
  },
  {
   "cell_type": "code",
   "execution_count": 83,
   "id": "96bb45f6",
   "metadata": {},
   "outputs": [
    {
     "data": {
      "text/plain": [
       "array([1, 0, 2, 1, 1, 0, 1, 2, 1, 1, 2, 0, 0, 0, 0, 1, 2, 1, 1, 2, 0, 2,\n",
       "       0, 2, 2, 2, 2, 2, 0, 0])"
      ]
     },
     "execution_count": 83,
     "metadata": {},
     "output_type": "execute_result"
    }
   ],
   "source": [
    "y_test_pred=vclf.predict(X_test)\n",
    "y_test_pred"
   ]
  },
  {
   "cell_type": "code",
   "execution_count": 84,
   "id": "70763444",
   "metadata": {},
   "outputs": [
    {
     "data": {
      "text/plain": [
       "1.0"
      ]
     },
     "execution_count": 84,
     "metadata": {},
     "output_type": "execute_result"
    }
   ],
   "source": [
    "test_model_score = accuracy_score(y_test,y_test_pred)\n",
    "test_model_score"
   ]
  }
 ],
 "metadata": {
  "kernelspec": {
   "display_name": "Python 3 (ipykernel)",
   "language": "python",
   "name": "python3"
  },
  "language_info": {
   "codemirror_mode": {
    "name": "ipython",
    "version": 3
   },
   "file_extension": ".py",
   "mimetype": "text/x-python",
   "name": "python",
   "nbconvert_exporter": "python",
   "pygments_lexer": "ipython3",
   "version": "3.9.13"
  }
 },
 "nbformat": 4,
 "nbformat_minor": 5
}
